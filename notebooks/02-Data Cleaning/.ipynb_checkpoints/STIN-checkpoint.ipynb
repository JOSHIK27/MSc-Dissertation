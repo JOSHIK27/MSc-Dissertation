{
 "cells": [
  {
   "cell_type": "code",
   "execution_count": 1,
   "id": "d2f071e6",
   "metadata": {},
   "outputs": [],
   "source": [
    "import pandas as pd"
   ]
  },
  {
   "cell_type": "code",
   "execution_count": 2,
   "id": "12f97c4a",
   "metadata": {},
   "outputs": [],
   "source": [
    "df = pd.read_csv(\"https://raw.githubusercontent.com/kun9717/STIN-data-set/main/SAT20.csv\")"
   ]
  },
  {
   "cell_type": "code",
   "execution_count": 3,
   "id": "d4f1945a",
   "metadata": {},
   "outputs": [
    {
     "data": {
      "text/plain": [
       "id                 0\n",
       "fl_dur             0\n",
       "fw_pk              0\n",
       "l_fw_pkt           0\n",
       "l_bw_pkt           0\n",
       "pkt_len_min        0\n",
       "pkt_len_max        0\n",
       "pkt_len_std        0\n",
       "fl_byt_s           0\n",
       "fl_iat_min         0\n",
       "bw_iat_tot         0\n",
       "bw_iat_min         0\n",
       "bw_psh_flag        0\n",
       "fw_urg_flag        0\n",
       "bw_urg_flag        0\n",
       "fw_hdr_len         0\n",
       "bw_pkt_s           0\n",
       "fin_cnt            0\n",
       "syn_cnt            0\n",
       "psh_cnt            0\n",
       "urg_cnt            0\n",
       "ece_cnt            0\n",
       "down_up_ratio      0\n",
       "fw_byt_blk_avg     0\n",
       "fw_pkt_blk_avg     0\n",
       "fw_blk_rate_avg    0\n",
       "bw_byt_blk_avg     0\n",
       "bw_pkt_blk_avg     0\n",
       "bw_blk_rate_avg    0\n",
       "fw_win_byt         0\n",
       "bw_win_byt         0\n",
       " Label             0\n",
       "dtype: int64"
      ]
     },
     "execution_count": 3,
     "metadata": {},
     "output_type": "execute_result"
    }
   ],
   "source": [
    "# the results show that there are no null values\n",
    "df.isnull().sum()"
   ]
  },
  {
   "cell_type": "code",
   "execution_count": 4,
   "id": "d97f1701",
   "metadata": {},
   "outputs": [],
   "source": [
    "duplicate_rows = df.duplicated()"
   ]
  },
  {
   "cell_type": "code",
   "execution_count": 5,
   "id": "c90f6b12",
   "metadata": {
    "scrolled": true
   },
   "outputs": [
    {
     "data": {
      "text/plain": [
       "0"
      ]
     },
     "execution_count": 5,
     "metadata": {},
     "output_type": "execute_result"
    }
   ],
   "source": [
    "duplicate_rows_count = duplicate_rows.sum()\n",
    "duplicate_rows_count"
   ]
  },
  {
   "cell_type": "code",
   "execution_count": 6,
   "id": "bcde7e38",
   "metadata": {},
   "outputs": [],
   "source": [
    "df = df.drop_duplicates()"
   ]
  },
  {
   "cell_type": "code",
   "execution_count": 7,
   "id": "0a7917a2",
   "metadata": {},
   "outputs": [
    {
     "data": {
      "text/plain": [
       "(82320, 32)"
      ]
     },
     "execution_count": 7,
     "metadata": {},
     "output_type": "execute_result"
    }
   ],
   "source": [
    "df.shape"
   ]
  }
 ],
 "metadata": {
  "kernelspec": {
   "display_name": "Python 3 (ipykernel)",
   "language": "python",
   "name": "python3"
  },
  "language_info": {
   "codemirror_mode": {
    "name": "ipython",
    "version": 3
   },
   "file_extension": ".py",
   "mimetype": "text/x-python",
   "name": "python",
   "nbconvert_exporter": "python",
   "pygments_lexer": "ipython3",
   "version": "3.11.5"
  }
 },
 "nbformat": 4,
 "nbformat_minor": 5
}
