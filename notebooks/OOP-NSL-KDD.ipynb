{
 "cells": [
  {
   "cell_type": "code",
   "execution_count": 11,
   "id": "6e7aff0f",
   "metadata": {},
   "outputs": [],
   "source": [
    "import pandas as pd\n",
    "from sklearn.neighbors import KNeighborsClassifier\n",
    "from sklearn.model_selection import train_test_split\n",
    "from sklearn.metrics import accuracy_score, confusion_matrix\n",
    "import time"
   ]
  },
  {
   "cell_type": "code",
   "execution_count": 28,
   "id": "bba7a756",
   "metadata": {},
   "outputs": [],
   "source": [
    "class KNNClassifier:\n",
    "    \n",
    "    def __init__(self, data_path, k, selected_features, label):\n",
    "        self.data_path = data_path\n",
    "        self.k = k\n",
    "        self.selected_features = selected_features\n",
    "        self.label = label\n",
    "        self.model = KNeighborsClassifier(n_neighbors=k)\n",
    "        \n",
    "    def _load_data(self):\n",
    "        self.df = pd.read_csv(self.data_path)\n",
    "        \n",
    "    def data_preparation(self):\n",
    "        X = self.df[self.selected_features]\n",
    "        y = self.df[self.label]\n",
    "        X_train, X_test, y_train, y_test = train_test_split(self.df[selected_features], self.df['label'], test_size=0.2, random_state=42)\n",
    "        self.X_train = X_train\n",
    "        self.X_test = X_test\n",
    "        self.y_train = y_train\n",
    "        self.y_test = y_test\n",
    "    \n",
    "    def train_model(self):\n",
    "        t0 = time.time()\n",
    "        self.model.fit(self.X_train, self.y_train)\n",
    "        training_time = time.time() - t0\n",
    "        \n",
    "    def evaluate_model(self):\n",
    "        y_pred = self.model.predict(self.X_test)\n",
    "        accuracy = accuracy_score(self.y_test, y_pred)\n",
    "        print(f'Accuracy: {accuracy * 100:.2f}%')\n",
    "        return accuracy"
   ]
  },
  {
   "cell_type": "code",
   "execution_count": 29,
   "id": "837cd4db",
   "metadata": {},
   "outputs": [],
   "source": [
    "selected_features = ['dst_host_same_src_port_rate',\n",
    " 'is_guest_login',\n",
    " 'num_failed_logins',\n",
    " 'dst_host_diff_srv_rate',\n",
    " 'rerror_rate',\n",
    " 'logged_in',\n",
    " 'serror_rate',\n",
    " 'same_srv_rate',\n",
    " 'protocol_type_0',\n",
    "'protocol_type_1', \n",
    " 'dst_host_srv_diff_host_rate']"
   ]
  },
  {
   "cell_type": "code",
   "execution_count": 30,
   "id": "c22da757",
   "metadata": {},
   "outputs": [],
   "source": [
    "instance = KNNClassifier(\"../../../transformed_datasets/transformed_KDD_CUPP99_2.csv\", 3, selected_features, 'label')"
   ]
  },
  {
   "cell_type": "code",
   "execution_count": 31,
   "id": "e659fa01",
   "metadata": {},
   "outputs": [],
   "source": [
    "instance._load_data()"
   ]
  },
  {
   "cell_type": "code",
   "execution_count": 32,
   "id": "560446ae",
   "metadata": {},
   "outputs": [],
   "source": [
    "instance.data_preparation()"
   ]
  },
  {
   "cell_type": "code",
   "execution_count": 33,
   "id": "367bc6e3",
   "metadata": {},
   "outputs": [],
   "source": [
    "instance.train_model()"
   ]
  },
  {
   "cell_type": "code",
   "execution_count": 34,
   "id": "62a48877",
   "metadata": {},
   "outputs": [
    {
     "name": "stdout",
     "output_type": "stream",
     "text": [
      "Accuracy: 99.47%\n"
     ]
    },
    {
     "data": {
      "text/plain": [
       "0.9947395104163275"
      ]
     },
     "execution_count": 34,
     "metadata": {},
     "output_type": "execute_result"
    }
   ],
   "source": [
    "instance.evaluate_model()"
   ]
  },
  {
   "cell_type": "code",
   "execution_count": null,
   "id": "3f26c03c",
   "metadata": {},
   "outputs": [],
   "source": []
  }
 ],
 "metadata": {
  "kernelspec": {
   "display_name": "Python 3 (ipykernel)",
   "language": "python",
   "name": "python3"
  },
  "language_info": {
   "codemirror_mode": {
    "name": "ipython",
    "version": 3
   },
   "file_extension": ".py",
   "mimetype": "text/x-python",
   "name": "python",
   "nbconvert_exporter": "python",
   "pygments_lexer": "ipython3",
   "version": "3.11.5"
  }
 },
 "nbformat": 4,
 "nbformat_minor": 5
}
