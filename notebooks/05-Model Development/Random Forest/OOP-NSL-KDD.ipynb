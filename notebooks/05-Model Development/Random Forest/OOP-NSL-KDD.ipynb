{
 "cells": [
  {
   "cell_type": "code",
   "execution_count": 1,
   "id": "31813995",
   "metadata": {},
   "outputs": [],
   "source": [
    "import pandas as pd\n",
    "import numpy as np\n",
    "from sklearn.ensemble import RandomForestClassifier\n",
    "from sklearn.model_selection import train_test_split\n",
    "from sklearn.metrics import accuracy_score, mean_squared_error\n",
    "import time"
   ]
  },
  {
   "cell_type": "code",
   "execution_count": 2,
   "id": "4aed4e15",
   "metadata": {},
   "outputs": [],
   "source": [
    "class RandomForest:\n",
    "    \n",
    "    def __init__(self, data_path, n_estimators, selected_features, label):\n",
    "        self.data_path = data_path\n",
    "        self.n_estimators = n_estimators\n",
    "        self.selected_features = selected_features\n",
    "        self.label = label\n",
    "        self.model = RandomForestClassifier(n_estimators = n_estimators, random_state=42)\n",
    "    \n",
    "    def _load_data(self):\n",
    "        self.df = pd.read_csv(self.data_path)\n",
    "        \n",
    "    def data_preparation(self):\n",
    "        X = self.df[self.selected_features]\n",
    "        y = self.df[self.label]\n",
    "        X_train, X_test, y_train, y_test = train_test_split(self.df[selected_features], self.df['label'], test_size=0.2, random_state=42)\n",
    "        self.X_train = X_train\n",
    "        self.X_test = X_test\n",
    "        self.y_train = y_train\n",
    "        self.y_test = y_test\n",
    "    \n",
    "    def train_model(self):\n",
    "        t0 = time.time()\n",
    "        self.model.fit(self.X_train, self.y_train)\n",
    "        training_time = time.time() - t0\n",
    "        \n",
    "    def evaluate_model(self):\n",
    "        y_pred = self.model.predict(self.X_test)\n",
    "        return accuracy_score(self.y_test, y_pred)"
   ]
  },
  {
   "cell_type": "code",
   "execution_count": 3,
   "id": "c5e230fe",
   "metadata": {},
   "outputs": [],
   "source": [
    "selected_features = ['dst_host_same_src_port_rate',\n",
    " 'is_guest_login',\n",
    " 'num_failed_logins',\n",
    " 'dst_host_diff_srv_rate',\n",
    " 'rerror_rate',\n",
    " 'logged_in',\n",
    " 'serror_rate',\n",
    " 'same_srv_rate',\n",
    " 'protocol_type_0',\n",
    "'protocol_type_1', \n",
    " 'dst_host_srv_diff_host_rate']"
   ]
  },
  {
   "cell_type": "code",
   "execution_count": 4,
   "id": "8f023543",
   "metadata": {},
   "outputs": [],
   "source": [
    "instance = RandomForest(\"../../../transformed_datasets/transformed_NSL_KDD_2.csv\", 100, selected_features, 'label')"
   ]
  },
  {
   "cell_type": "code",
   "execution_count": 5,
   "id": "d245121a",
   "metadata": {},
   "outputs": [],
   "source": [
    "instance._load_data()"
   ]
  },
  {
   "cell_type": "code",
   "execution_count": 6,
   "id": "587977c6",
   "metadata": {},
   "outputs": [],
   "source": [
    "instance.data_preparation()"
   ]
  },
  {
   "cell_type": "code",
   "execution_count": 7,
   "id": "2baa0651",
   "metadata": {},
   "outputs": [],
   "source": [
    "instance.train_model()"
   ]
  },
  {
   "cell_type": "code",
   "execution_count": 8,
   "id": "edf2cf82",
   "metadata": {},
   "outputs": [
    {
     "data": {
      "text/plain": [
       "0.9019738301175427"
      ]
     },
     "execution_count": 8,
     "metadata": {},
     "output_type": "execute_result"
    }
   ],
   "source": [
    "instance.evaluate_model()"
   ]
  }
 ],
 "metadata": {
  "kernelspec": {
   "display_name": "Python 3 (ipykernel)",
   "language": "python",
   "name": "python3"
  },
  "language_info": {
   "codemirror_mode": {
    "name": "ipython",
    "version": 3
   },
   "file_extension": ".py",
   "mimetype": "text/x-python",
   "name": "python",
   "nbconvert_exporter": "python",
   "pygments_lexer": "ipython3",
   "version": "3.11.5"
  }
 },
 "nbformat": 4,
 "nbformat_minor": 5
}
