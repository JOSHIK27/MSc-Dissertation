{
 "cells": [
  {
   "cell_type": "code",
   "execution_count": 1,
   "id": "eb398cb4",
   "metadata": {},
   "outputs": [],
   "source": [
    "import pandas as pd\n",
    "import torch\n",
    "import torch.nn as nn\n",
    "import torch.optim as optmin\n",
    "from sklearn.preprocessing import StandardScaler\n",
    "from sklearn.preprocessing import LabelEncoder\n",
    "from kan import *\n",
    "from sklearn.model_selection import train_test_split"
   ]
  },
  {
   "cell_type": "code",
   "execution_count": 3,
   "id": "bc115bdb",
   "metadata": {},
   "outputs": [],
   "source": [
    "df = pd.read_csv(\"../../../transformed_datasets/transformed_NSL_KDD_2.csv\")"
   ]
  },
  {
   "cell_type": "code",
   "execution_count": 4,
   "id": "80f078cd",
   "metadata": {},
   "outputs": [],
   "source": [
    "selected_features = ['dst_host_same_src_port_rate',\n",
    " 'is_guest_login',\n",
    " 'num_failed_logins',\n",
    " 'dst_host_diff_srv_rate',\n",
    " 'rerror_rate',\n",
    " 'logged_in',\n",
    " 'serror_rate',\n",
    " 'same_srv_rate',\n",
    " 'protocol_type_0',\n",
    "'protocol_type_1',\n",
    " 'dst_host_srv_diff_host_rate']"
   ]
  },
  {
   "cell_type": "code",
   "execution_count": 5,
   "id": "3f58510f",
   "metadata": {},
   "outputs": [],
   "source": [
    "feature_columns = []\n",
    "for feature in df.columns:\n",
    "    if df[feature].dtype == 'int64' or df[feature].dtype == 'float64':\n",
    "        feature_columns.append(feature)"
   ]
  },
  {
   "cell_type": "code",
   "execution_count": 6,
   "id": "30c36586",
   "metadata": {},
   "outputs": [
    {
     "name": "stdout",
     "output_type": "stream",
     "text": [
      "[]\n"
     ]
    }
   ],
   "source": [
    "features_to_be_normalised = []\n",
    "for feature in df.columns:\n",
    "    if feature == 'label':\n",
    "        continue\n",
    "    min_val = df[feature].min()\n",
    "    max_val = df[feature].max()\n",
    "    if not min_val >= 0.0 and max_val <= 1.0:\n",
    "        features_to_be_normalised.append(feature)\n",
    "print(features_to_be_normalised)"
   ]
  },
  {
   "cell_type": "code",
   "execution_count": 7,
   "id": "fc007506",
   "metadata": {},
   "outputs": [
    {
     "data": {
      "text/plain": [
       "38"
      ]
     },
     "execution_count": 7,
     "metadata": {},
     "output_type": "execute_result"
    }
   ],
   "source": [
    "# scaler = StandardScaler()\n",
    "# df[features_to_be_normalised] = scaler.fit_transform(df[features_to_be_normalised])\n",
    "# df[features_to_be_normalised].describe()\n",
    "df['label'].nunique()\n"
   ]
  },
  {
   "cell_type": "code",
   "execution_count": null,
   "id": "20dde0a9",
   "metadata": {},
   "outputs": [],
   "source": [
    "label_encoder = LabelEncoder()\n",
    "df['label'].nunique()\n",
    "df['label'] = label_encoder.fit_transform(df['label'])"
   ]
  },
  {
   "cell_type": "code",
   "execution_count": null,
   "id": "497f7190",
   "metadata": {},
   "outputs": [],
   "source": [
    "def load_dataset():\n",
    "    features_tensor = torch.tensor(df[selected_features].values, dtype=torch.float32)\n",
    "    target_tensor = torch.tensor(df['label'].values.reshape(-1, 1), dtype=torch.long)\n",
    "    features_tensor.to(dtype=torch.float64)\n",
    "    target_tensor.to(dtype=torch.float64)\n",
    "    X_Train, X_Test, y_train, y_test = train_test_split(features_tensor, target_tensor, test_size=0.2, random_state=42)\n",
    "    train_loader = torch.utils.data.DataLoader(torch.utils.data.TensorDataset(X_Train, y_train), batch_size=1, shuffle=True)\n",
    "    test_loader = torch.utils.data.DataLoader(torch.utils.data.TensorDataset(X_Test, y_test), batch_size=1, shuffle=False)\n",
    "\n",
    "    train_inputs = torch.empty(0, 11, device=device)\n",
    "    train_labels = torch.empty(0, 1, device=device)\n",
    "    test_inputs = torch.empty(0, 11, device=device)\n",
    "    test_labels = torch.empty(0, 1, device=device)\n",
    "\n",
    "    # Concatenate all data into a single tensor on the specified device\n",
    "    for data, labels in train_loader:\n",
    "        train_inputs = torch.cat((X_Train, data.to(device)), dim=0)\n",
    "        train_labels = torch.cat((y_train, labels.to(device)), dim=0)\n",
    "\n",
    "    for data, labels in test_loader:\n",
    "        test_inputs = torch.cat((X_Test, data.to(device)), dim=0)\n",
    "        test_labels = torch.cat((y_test, labels.to(device)), dim=0)\n",
    "    print(train_inputs, train_labels)\n",
    "    dataset = {}\n",
    "    dataset['train_input'] = train_inputs\n",
    "    dataset['test_input'] = test_inputs\n",
    "    dataset['train_label'] = train_labels\n",
    "    dataset['test_label'] = test_labels\n",
    "    dataset['train_input'] = dataset['train_input']\n",
    "    dataset['train_label'] = dataset['train_label']\n",
    "\n",
    "    return dataset"
   ]
  },
  {
   "cell_type": "code",
   "execution_count": null,
   "id": "0c3fc967",
   "metadata": {},
   "outputs": [],
   "source": [
    "device = None\n",
    "if torch.cuda.is_available():\n",
    "    device = torch.device(\"mpu\")\n",
    "else:\n",
    "    device = torch.device(\"cpu\")\n",
    "device"
   ]
  },
  {
   "cell_type": "code",
   "execution_count": null,
   "id": "fed345e9",
   "metadata": {},
   "outputs": [],
   "source": [
    "dataset = load_dataset()"
   ]
  },
  {
   "cell_type": "code",
   "execution_count": null,
   "id": "1688c574",
   "metadata": {},
   "outputs": [],
   "source": [
    "model = KAN(width=[11, 32, 16, 23], grid=3, k=3, seed=42)"
   ]
  },
  {
   "cell_type": "code",
   "execution_count": null,
   "id": "ca6bc5ae",
   "metadata": {},
   "outputs": [],
   "source": [
    "model.fit(dataset, opt=\"LBFGS\", steps=100, lamb=0.001);"
   ]
  },
  {
   "cell_type": "code",
   "execution_count": null,
   "id": "d0816a26",
   "metadata": {},
   "outputs": [],
   "source": []
  }
 ],
 "metadata": {
  "kernelspec": {
   "display_name": "Python 3 (ipykernel)",
   "language": "python",
   "name": "python3"
  },
  "language_info": {
   "codemirror_mode": {
    "name": "ipython",
    "version": 3
   },
   "file_extension": ".py",
   "mimetype": "text/x-python",
   "name": "python",
   "nbconvert_exporter": "python",
   "pygments_lexer": "ipython3",
   "version": "3.11.5"
  }
 },
 "nbformat": 4,
 "nbformat_minor": 5
}
