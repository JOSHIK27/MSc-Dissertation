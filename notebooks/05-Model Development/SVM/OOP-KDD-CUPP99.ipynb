{
 "cells": [
  {
   "cell_type": "code",
   "execution_count": 1,
   "id": "9d10ca57",
   "metadata": {},
   "outputs": [],
   "source": [
    "import numpy as np\n",
    "import pandas as pd\n",
    "from sklearn.model_selection import train_test_split, cross_val_score, GridSearchCV\n",
    "from sklearn.svm import SVC\n",
    "from sklearn.metrics import accuracy_score, confusion_matrix, classification_report, f1_score, roc_curve, auc, precision_recall_curve, average_precision_score\n",
    "import seaborn as sns\n",
    "import matplotlib.pyplot as plt\n",
    "import time\n",
    "from sklearn.preprocessing import LabelEncoder"
   ]
  },
  {
   "cell_type": "code",
   "execution_count": 11,
   "id": "dd9bab4e",
   "metadata": {},
   "outputs": [],
   "source": [
    "class DataPreparation:\n",
    "    \n",
    "    def __init__(self, data_path, selected_features, label):\n",
    "        self.data_path = data_path\n",
    "        self.selected_features = selected_features\n",
    "        self.label = label\n",
    "    \n",
    "    def load_data(self):\n",
    "        self.df = pd.read_csv(self.data_path)\n",
    "        self.df['label'] = self.df['label'].apply(lambda x: x if x == 'normal.' else 'attack')\n",
    "    \n",
    "    def data_preparation(self):\n",
    "        le = LabelEncoder()\n",
    "        self.df[self.label] = le.fit_transform(self.df[self.label])\n",
    "        X = self.df[self.selected_features]\n",
    "        y = self.df[self.label]\n",
    "        self.X_train, self.X_test, self.y_train, self.y_test = train_test_split(X, y, test_size=0.2, random_state=42)\n"
   ]
  },
  {
   "cell_type": "code",
   "execution_count": 12,
   "id": "dbeeb38d",
   "metadata": {},
   "outputs": [],
   "source": [
    "class SVMClassifier:\n",
    "    \n",
    "    def __init__(self, kernel='rbf'):\n",
    "        self.model = SVC(kernel=kernel, probability=True, gamma='scale')\n",
    "    \n",
    "    def train_model(self, X_train, y_train):\n",
    "        t0 = time.time()\n",
    "        self.model.fit(X_train, y_train)\n",
    "        training_time = time.time() - t0\n",
    "        return training_time\n",
    "        \n",
    "    def evaluate_model(self, X_test, y_test):\n",
    "        y_pred = self.model.predict(X_test)\n",
    "        y_pred_proba = self.model.predict_proba(X_test)[:, 1]\n",
    "        accuracy = accuracy_score(y_test, y_pred)\n",
    "        conf_matrix = confusion_matrix(y_test, y_pred)\n",
    "        f1 = f1_score(y_test, y_pred, average='weighted')\n",
    "        class_report = classification_report(y_test, y_pred, output_dict=True)\n",
    "        return accuracy, conf_matrix, f1, class_report, y_pred_proba\n",
    "    \n",
    "    def hyperparameter_tuning(self, X_train, y_train):\n",
    "        param_grid = {\n",
    "            'kernel': ['linear', 'poly', 'rbf', 'sigmoid'],\n",
    "            'C': [0.1, 1, 10],\n",
    "            'gamma': ['scale', 'auto']\n",
    "        }\n",
    "\n",
    "        grid_search = GridSearchCV(SVC(probability=True), param_grid, cv=5, scoring='accuracy')\n",
    "        grid_search.fit(X_train, y_train)\n",
    "\n",
    "        best_model = grid_search.best_estimator_\n",
    "        return grid_search.best_params_, best_model\n",
    "    \n",
    "    def plot_confusion_matrix(self, y_test, y_pred):\n",
    "        cm = confusion_matrix(y_test, y_pred)\n",
    "        plt.figure(figsize=(6, 4))\n",
    "        sns.heatmap(cm, annot=True, fmt='d', cmap='Blues', xticklabels=['attack', 'normal'], yticklabels=['attack', 'normal'])\n",
    "        plt.xlabel('Predicted')\n",
    "        plt.ylabel('Actual')\n",
    "        plt.title('Confusion Matrix')\n",
    "        plt.show()\n",
    "    \n",
    "    def plot_roc_curve(self, y_test, y_pred_proba):\n",
    "        fpr, tpr, thresholds = roc_curve(y_test, y_pred_proba)\n",
    "        roc_auc = auc(fpr, tpr)\n",
    "\n",
    "        plt.figure()\n",
    "        plt.plot(fpr, tpr, color='darkorange', lw=2, label=f'ROC curve (AUC = {roc_auc:.2f})')\n",
    "        plt.plot([0, 1], [0, 1], color='navy', lw=2, linestyle='--')\n",
    "        plt.xlim([0.0, 1.0])\n",
    "        plt.ylim([0.0, 1.05])\n",
    "        plt.xlabel('False Positive Rate')\n",
    "        plt.ylabel('True Positive Rate')\n",
    "        plt.title('Receiver Operating Characteristic (ROC) Curve')\n",
    "        plt.legend(loc=\"lower right\")\n",
    "        plt.show()\n",
    "    \n",
    "    def plot_classification_report(self, y_test, y_pred):\n",
    "        report = classification_report(y_test, y_pred, output_dict=True)\n",
    "        rep_df = pd.DataFrame(report).transpose()\n",
    "\n",
    "        plt.figure(figsize=(10,7))\n",
    "        sns.heatmap(rep_df.iloc[:-1, :-1].astype(float), annot=True, cmap=\"Blues\")\n",
    "        plt.title('Classification Report Heatmap')\n",
    "        plt.tight_layout()\n",
    "        plt.show()\n",
    "\n",
    "    def plot_precision_recall_curve(self, y_test, y_pred_proba):\n",
    "        precision, recall, thresholds = precision_recall_curve(y_test, y_pred_proba)\n",
    "        average_precision = average_precision_score(y_test, y_pred_proba)\n",
    "\n",
    "        plt.figure(figsize=(8, 6))\n",
    "        plt.plot(recall, precision, color='blue', label=f'Precision-Recall curve (AP = {average_precision:.2f})')\n",
    "        plt.xlabel('Recall')\n",
    "        plt.ylabel('Precision')\n",
    "        plt.title('Precision-Recall Curve')\n",
    "        plt.legend(loc=\"lower left\")\n",
    "        plt.grid(True)\n",
    "        plt.show()\n",
    "\n",
    "    def cross_validation_metrics(self, X, y):\n",
    "        cv_accuracy = cross_val_score(self.model, X, y, cv=5, scoring='accuracy')\n",
    "        cv_precision = cross_val_score(self.model, X, y, cv=5, scoring='precision')\n",
    "        cv_recall = cross_val_score(self.model, X, y, cv=5, scoring='recall')\n",
    "        cv_f1 = cross_val_score(self.model, X, y, cv=5, scoring='f1')\n",
    "        cv_roc_auc = cross_val_score(self.model, X, y, cv=5, scoring='roc_auc')\n",
    "\n",
    "        return cv_accuracy.mean(), cv_precision.mean(), cv_recall.mean(), cv_f1.mean(), cv_roc_auc.mean()\n"
   ]
  },
  {
   "cell_type": "code",
   "execution_count": 13,
   "id": "c68ec328",
   "metadata": {},
   "outputs": [],
   "source": [
    "selected_features = [\n",
    "    'dst_host_same_src_port_rate',\n",
    "    'is_guest_login',\n",
    "    'num_failed_logins',\n",
    "    'dst_host_diff_srv_rate',\n",
    "    'rerror_rate',\n",
    "    'logged_in',\n",
    "    'serror_rate',\n",
    "    'same_srv_rate',\n",
    "    'protocol_type_0',\n",
    "    'protocol_type_1', \n",
    "    'dst_host_srv_diff_host_rate'\n",
    "]"
   ]
  },
  {
   "cell_type": "code",
   "execution_count": 14,
   "id": "7f8c29d8",
   "metadata": {},
   "outputs": [],
   "source": [
    "data_prep = DataPreparation(\"../../../transformed_datasets/transformed_KDD_CUPP99_2.csv\", selected_features, 'label')"
   ]
  },
  {
   "cell_type": "code",
   "execution_count": 15,
   "id": "7fc99c5e",
   "metadata": {},
   "outputs": [],
   "source": [
    "data_prep.load_data()"
   ]
  },
  {
   "cell_type": "code",
   "execution_count": 16,
   "id": "71f25d50",
   "metadata": {},
   "outputs": [],
   "source": [
    "data_prep.data_preparation()"
   ]
  },
  {
   "cell_type": "code",
   "execution_count": 17,
   "id": "ddf09980",
   "metadata": {},
   "outputs": [],
   "source": [
    "svm_model = SVMClassifier(kernel='rbf')"
   ]
  },
  {
   "cell_type": "code",
   "execution_count": null,
   "id": "8d8ed261",
   "metadata": {},
   "outputs": [],
   "source": [
    "training_time = svm_model.train_model(data_prep.X_train, data_prep.y_train)"
   ]
  },
  {
   "cell_type": "code",
   "execution_count": null,
   "id": "0d89c7b1",
   "metadata": {},
   "outputs": [],
   "source": [
    "accuracy, conf_matrix, f1, class_report, y_pred_proba = svm_model.evaluate_model(data_prep.X_test, data_prep.y_test)"
   ]
  },
  {
   "cell_type": "code",
   "execution_count": null,
   "id": "a6e82c13",
   "metadata": {},
   "outputs": [],
   "source": [
    "print(f\"Accuracy: {accuracy}\")\n",
    "print(f\"Confusion Matrix:\\n{conf_matrix}\")\n",
    "print(f\"F1 Score: {f1}\")\n",
    "print(f\"Classification Report:\\n{class_report}\")"
   ]
  },
  {
   "cell_type": "code",
   "execution_count": null,
   "id": "31b2abaf",
   "metadata": {},
   "outputs": [],
   "source": [
    "svm_model.plot_confusion_matrix(data_prep.y_test, svm_model.model.predict(data_prep.X_test))"
   ]
  },
  {
   "cell_type": "code",
   "execution_count": null,
   "id": "5982ff91",
   "metadata": {},
   "outputs": [],
   "source": [
    "svm_model.plot_roc_curve(data_prep.y_test, y_pred_proba)"
   ]
  },
  {
   "cell_type": "code",
   "execution_count": null,
   "id": "ea82572c",
   "metadata": {},
   "outputs": [],
   "source": [
    "svm_model.plot_classification_report(data_prep.y_test, svm_model.model.predict(data_prep.X_test))"
   ]
  },
  {
   "cell_type": "code",
   "execution_count": null,
   "id": "60a573a8",
   "metadata": {},
   "outputs": [],
   "source": [
    "svm_model.plot_precision_recall_curve(data_prep.y_test, y_pred_proba)"
   ]
  },
  {
   "cell_type": "code",
   "execution_count": null,
   "id": "769d718a",
   "metadata": {},
   "outputs": [],
   "source": [
    "cv_accuracy, cv_precision, cv_recall, cv_f1, cv_roc_auc = svm_model.cross_validation_metrics(data_prep.X_train, data_prep.y_train)"
   ]
  },
  {
   "cell_type": "code",
   "execution_count": null,
   "id": "ab5150be",
   "metadata": {},
   "outputs": [],
   "source": [
    "print(f\"Cross-Validation Accuracy: {cv_accuracy}\")\n",
    "print(f\"Cross-Validation Precision: {cv_precision}\")\n",
    "print(f\"Cross-Validation Recall: {cv_recall}\")\n",
    "print(f\"Cross-Validation F1 Score: {cv_f1}\")\n",
    "print(f\"Cross-Validation ROC AUC: {cv_roc_auc}\")"
   ]
  }
 ],
 "metadata": {
  "kernelspec": {
   "display_name": "Python 3 (ipykernel)",
   "language": "python",
   "name": "python3"
  },
  "language_info": {
   "codemirror_mode": {
    "name": "ipython",
    "version": 3
   },
   "file_extension": ".py",
   "mimetype": "text/x-python",
   "name": "python",
   "nbconvert_exporter": "python",
   "pygments_lexer": "ipython3",
   "version": "3.11.5"
  }
 },
 "nbformat": 4,
 "nbformat_minor": 5
}
