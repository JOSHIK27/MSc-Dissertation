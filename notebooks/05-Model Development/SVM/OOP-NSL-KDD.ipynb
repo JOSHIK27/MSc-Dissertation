{
 "cells": [
  {
   "cell_type": "code",
   "execution_count": 1,
   "id": "9d10ca57",
   "metadata": {},
   "outputs": [],
   "source": [
    "import pandas as pd\n",
    "from sklearn.model_selection import train_test_split\n",
    "from sklearn.metrics import accuracy_score, confusion_matrix\n",
    "from sklearn.svm import SVC\n",
    "from sklearn.metrics import accuracy_score, confusion_matrix, classification_report, f1_score\n",
    "from sklearn.preprocessing import LabelEncoder\n",
    "import time"
   ]
  },
  {
   "cell_type": "code",
   "execution_count": 9,
   "id": "76ff9409",
   "metadata": {},
   "outputs": [],
   "source": [
    "class SVMClassifier: \n",
    "    \n",
    "    def __init__(self, data_path, selected_features, label, kernel):\n",
    "        self.data_path = data_path\n",
    "        self.selected_features = selected_features\n",
    "        self.label = label\n",
    "        self.kernel = kernel\n",
    "        self.model = SVC(kernel = kernel, gamma='scale')\n",
    "    \n",
    "    def _load_data(self):\n",
    "        self.df = pd.read_csv(self.data_path)\n",
    "        self.df['label'] = self.df['label'].apply(lambda x: x if x == 'normal.' else 'attack')\n",
    "\n",
    "    \n",
    "    def data_preparation(self):\n",
    "        X = self.df[self.selected_features]\n",
    "        y = self.df[self.label]\n",
    "        X_train, X_test, y_train, y_test = train_test_split(self.df[selected_features], self.df['label'], test_size=0.2, random_state=42)\n",
    "        self.X_train = X_train\n",
    "        self.X_test = X_test\n",
    "        self.y_train = y_train\n",
    "        self.y_test = y_test\n",
    "        \n",
    "    def train_model(self):\n",
    "        t0 = time.time()\n",
    "        self.model.fit(self.X_train, self.y_train)\n",
    "        training_time = time.time() - t0\n",
    "        \n",
    "    def evaluate_model(self):\n",
    "        y_pred = self.model.predict(self.X_test)\n",
    "        accuracy = accuracy_score(self.y_test, y_pred)\n",
    "        conf_matrix = confusion_matrix(self.y_test, y_pred)\n",
    "        f1 = f1_score(self.y_test, y_pred, average='weighted')\n",
    "        class_report = classification_report(self.y_test, y_pred)\n",
    "        return accuracy, conf_matrix, f1, class_report"
   ]
  },
  {
   "cell_type": "code",
   "execution_count": 10,
   "id": "f525785a",
   "metadata": {},
   "outputs": [],
   "source": [
    "selected_features = ['dst_host_same_src_port_rate',\n",
    " 'is_guest_login',\n",
    " 'num_failed_logins',\n",
    " 'dst_host_diff_srv_rate',\n",
    " 'rerror_rate',\n",
    " 'logged_in',\n",
    " 'serror_rate',\n",
    " 'same_srv_rate',\n",
    " 'protocol_type_0',\n",
    "'protocol_type_1', \n",
    " 'dst_host_srv_diff_host_rate']"
   ]
  },
  {
   "cell_type": "code",
   "execution_count": 11,
   "id": "6e491aea",
   "metadata": {},
   "outputs": [],
   "source": [
    "instance = SVMClassifier(\"../../../transformed_datasets/transformed_NSL_KDD_2.csv\", selected_features, 'label', 'rbf')"
   ]
  },
  {
   "cell_type": "code",
   "execution_count": 12,
   "id": "288ad6d5",
   "metadata": {},
   "outputs": [],
   "source": [
    "instance._load_data()"
   ]
  },
  {
   "cell_type": "code",
   "execution_count": 13,
   "id": "1cda345d",
   "metadata": {},
   "outputs": [],
   "source": [
    "instance.data_preparation()"
   ]
  },
  {
   "cell_type": "code",
   "execution_count": 14,
   "id": "0e4567d4",
   "metadata": {},
   "outputs": [
    {
     "ename": "ValueError",
     "evalue": "The number of classes has to be greater than one; got 1 class",
     "output_type": "error",
     "traceback": [
      "\u001b[0;31m---------------------------------------------------------------------------\u001b[0m",
      "\u001b[0;31mValueError\u001b[0m                                Traceback (most recent call last)",
      "Cell \u001b[0;32mIn[14], line 1\u001b[0m\n\u001b[0;32m----> 1\u001b[0m instance\u001b[38;5;241m.\u001b[39mtrain_model()\n",
      "Cell \u001b[0;32mIn[9], line 26\u001b[0m, in \u001b[0;36mSVMClassifier.train_model\u001b[0;34m(self)\u001b[0m\n\u001b[1;32m     24\u001b[0m \u001b[38;5;28;01mdef\u001b[39;00m \u001b[38;5;21mtrain_model\u001b[39m(\u001b[38;5;28mself\u001b[39m):\n\u001b[1;32m     25\u001b[0m     t0 \u001b[38;5;241m=\u001b[39m time\u001b[38;5;241m.\u001b[39mtime()\n\u001b[0;32m---> 26\u001b[0m     \u001b[38;5;28mself\u001b[39m\u001b[38;5;241m.\u001b[39mmodel\u001b[38;5;241m.\u001b[39mfit(\u001b[38;5;28mself\u001b[39m\u001b[38;5;241m.\u001b[39mX_train, \u001b[38;5;28mself\u001b[39m\u001b[38;5;241m.\u001b[39my_train)\n\u001b[1;32m     27\u001b[0m     training_time \u001b[38;5;241m=\u001b[39m time\u001b[38;5;241m.\u001b[39mtime() \u001b[38;5;241m-\u001b[39m t0\n",
      "File \u001b[0;32m~/anaconda3/lib/python3.11/site-packages/sklearn/svm/_base.py:182\u001b[0m, in \u001b[0;36mBaseLibSVM.fit\u001b[0;34m(self, X, y, sample_weight)\u001b[0m\n\u001b[1;32m    172\u001b[0m \u001b[38;5;28;01melse\u001b[39;00m:\n\u001b[1;32m    173\u001b[0m     X, y \u001b[38;5;241m=\u001b[39m \u001b[38;5;28mself\u001b[39m\u001b[38;5;241m.\u001b[39m_validate_data(\n\u001b[1;32m    174\u001b[0m         X,\n\u001b[1;32m    175\u001b[0m         y,\n\u001b[0;32m   (...)\u001b[0m\n\u001b[1;32m    179\u001b[0m         accept_large_sparse\u001b[38;5;241m=\u001b[39m\u001b[38;5;28;01mFalse\u001b[39;00m,\n\u001b[1;32m    180\u001b[0m     )\n\u001b[0;32m--> 182\u001b[0m y \u001b[38;5;241m=\u001b[39m \u001b[38;5;28mself\u001b[39m\u001b[38;5;241m.\u001b[39m_validate_targets(y)\n\u001b[1;32m    184\u001b[0m sample_weight \u001b[38;5;241m=\u001b[39m np\u001b[38;5;241m.\u001b[39masarray(\n\u001b[1;32m    185\u001b[0m     [] \u001b[38;5;28;01mif\u001b[39;00m sample_weight \u001b[38;5;129;01mis\u001b[39;00m \u001b[38;5;28;01mNone\u001b[39;00m \u001b[38;5;28;01melse\u001b[39;00m sample_weight, dtype\u001b[38;5;241m=\u001b[39mnp\u001b[38;5;241m.\u001b[39mfloat64\n\u001b[1;32m    186\u001b[0m )\n\u001b[1;32m    187\u001b[0m solver_type \u001b[38;5;241m=\u001b[39m LIBSVM_IMPL\u001b[38;5;241m.\u001b[39mindex(\u001b[38;5;28mself\u001b[39m\u001b[38;5;241m.\u001b[39m_impl)\n",
      "File \u001b[0;32m~/anaconda3/lib/python3.11/site-packages/sklearn/svm/_base.py:739\u001b[0m, in \u001b[0;36mBaseSVC._validate_targets\u001b[0;34m(self, y)\u001b[0m\n\u001b[1;32m    737\u001b[0m \u001b[38;5;28mself\u001b[39m\u001b[38;5;241m.\u001b[39mclass_weight_ \u001b[38;5;241m=\u001b[39m compute_class_weight(\u001b[38;5;28mself\u001b[39m\u001b[38;5;241m.\u001b[39mclass_weight, classes\u001b[38;5;241m=\u001b[39m\u001b[38;5;28mcls\u001b[39m, y\u001b[38;5;241m=\u001b[39my_)\n\u001b[1;32m    738\u001b[0m \u001b[38;5;28;01mif\u001b[39;00m \u001b[38;5;28mlen\u001b[39m(\u001b[38;5;28mcls\u001b[39m) \u001b[38;5;241m<\u001b[39m \u001b[38;5;241m2\u001b[39m:\n\u001b[0;32m--> 739\u001b[0m     \u001b[38;5;28;01mraise\u001b[39;00m \u001b[38;5;167;01mValueError\u001b[39;00m(\n\u001b[1;32m    740\u001b[0m         \u001b[38;5;124m\"\u001b[39m\u001b[38;5;124mThe number of classes has to be greater than one; got \u001b[39m\u001b[38;5;132;01m%d\u001b[39;00m\u001b[38;5;124m class\u001b[39m\u001b[38;5;124m\"\u001b[39m\n\u001b[1;32m    741\u001b[0m         \u001b[38;5;241m%\u001b[39m \u001b[38;5;28mlen\u001b[39m(\u001b[38;5;28mcls\u001b[39m)\n\u001b[1;32m    742\u001b[0m     )\n\u001b[1;32m    744\u001b[0m \u001b[38;5;28mself\u001b[39m\u001b[38;5;241m.\u001b[39mclasses_ \u001b[38;5;241m=\u001b[39m \u001b[38;5;28mcls\u001b[39m\n\u001b[1;32m    746\u001b[0m \u001b[38;5;28;01mreturn\u001b[39;00m np\u001b[38;5;241m.\u001b[39masarray(y, dtype\u001b[38;5;241m=\u001b[39mnp\u001b[38;5;241m.\u001b[39mfloat64, order\u001b[38;5;241m=\u001b[39m\u001b[38;5;124m\"\u001b[39m\u001b[38;5;124mC\u001b[39m\u001b[38;5;124m\"\u001b[39m)\n",
      "\u001b[0;31mValueError\u001b[0m: The number of classes has to be greater than one; got 1 class"
     ]
    }
   ],
   "source": [
    "instance.train_model()"
   ]
  },
  {
   "cell_type": "code",
   "execution_count": 8,
   "id": "c68b9e63",
   "metadata": {
    "scrolled": true
   },
   "outputs": [
    {
     "name": "stderr",
     "output_type": "stream",
     "text": [
      "/Users/joshikroshannarayana/anaconda3/lib/python3.11/site-packages/sklearn/metrics/_classification.py:1334: UndefinedMetricWarning: Precision and F-score are ill-defined and being set to 0.0 in labels with no predicted samples. Use `zero_division` parameter to control this behavior.\n",
      "  _warn_prf(average, modifier, msg_start, len(result))\n",
      "/Users/joshikroshannarayana/anaconda3/lib/python3.11/site-packages/sklearn/metrics/_classification.py:1334: UndefinedMetricWarning: Precision and F-score are ill-defined and being set to 0.0 in labels with no predicted samples. Use `zero_division` parameter to control this behavior.\n",
      "  _warn_prf(average, modifier, msg_start, len(result))\n",
      "/Users/joshikroshannarayana/anaconda3/lib/python3.11/site-packages/sklearn/metrics/_classification.py:1334: UndefinedMetricWarning: Precision and F-score are ill-defined and being set to 0.0 in labels with no predicted samples. Use `zero_division` parameter to control this behavior.\n",
      "  _warn_prf(average, modifier, msg_start, len(result))\n"
     ]
    },
    {
     "data": {
      "text/plain": [
       "(0.8536260811709914,\n",
       " array([[138,   2,   0, ...,   0,   0,   0],\n",
       "        [  1,  16,   0, ...,   0,   0,   0],\n",
       "        [  0,   0,   0, ...,   0,   0,   0],\n",
       "        ...,\n",
       "        [  0,   0,   0, ...,   0,   0,   0],\n",
       "        [  1,   0,   0, ...,   0,   0,   0],\n",
       "        [  0,   0,   0, ...,   0,   0,   0]]),\n",
       " 0.8238112510487011,\n",
       " '                 precision    recall  f1-score   support\\n\\n        apache2       0.68      0.97      0.80       143\\n           back       0.89      0.25      0.39        65\\nbuffer_overflow       0.00      0.00      0.00         2\\n      ftp_write       0.00      0.00      0.00         2\\n   guess_passwd       0.94      0.43      0.59       249\\n     httptunnel       0.00      0.00      0.00        24\\n        ipsweep       0.88      1.00      0.94        29\\n           land       0.00      0.00      0.00         1\\n       mailbomb       1.00      0.08      0.14        66\\n          mscan       0.78      0.75      0.77       189\\n       multihop       0.00      0.00      0.00         7\\n          named       0.00      0.00      0.00         3\\n        neptune       0.98      0.99      0.99       924\\n           nmap       1.00      1.00      1.00        14\\n         normal       0.82      0.96      0.89      1925\\n           perl       0.00      0.00      0.00         1\\n            pod       1.00      0.33      0.50         9\\n      portsweep       0.69      0.74      0.71        27\\n   processtable       0.79      0.82      0.80       131\\n             ps       0.00      0.00      0.00         5\\n        rootkit       0.00      0.00      0.00         3\\n          saint       0.95      0.29      0.44        62\\n          satan       0.72      0.98      0.83       154\\n       sendmail       0.00      0.00      0.00         1\\n          smurf       0.91      0.99      0.95       147\\n  snmpgetattack       0.00      0.00      0.00        38\\n      snmpguess       0.00      0.00      0.00        70\\n      sqlattack       0.00      0.00      0.00         1\\n       teardrop       0.00      0.00      0.00         1\\n       udpstorm       0.00      0.00      0.00         1\\n    warezmaster       0.94      0.91      0.92       209\\n           worm       0.00      0.00      0.00         1\\n          xlock       0.00      0.00      0.00         1\\n         xsnoop       0.00      0.00      0.00         1\\n          xterm       0.00      0.00      0.00         3\\n\\n       accuracy                           0.85      4509\\n      macro avg       0.40      0.33      0.33      4509\\n   weighted avg       0.83      0.85      0.82      4509\\n')"
      ]
     },
     "execution_count": 8,
     "metadata": {},
     "output_type": "execute_result"
    }
   ],
   "source": [
    "instance.evaluate_model()"
   ]
  },
  {
   "cell_type": "code",
   "execution_count": null,
   "id": "372f6759",
   "metadata": {},
   "outputs": [],
   "source": []
  }
 ],
 "metadata": {
  "kernelspec": {
   "display_name": "Python 3 (ipykernel)",
   "language": "python",
   "name": "python3"
  },
  "language_info": {
   "codemirror_mode": {
    "name": "ipython",
    "version": 3
   },
   "file_extension": ".py",
   "mimetype": "text/x-python",
   "name": "python",
   "nbconvert_exporter": "python",
   "pygments_lexer": "ipython3",
   "version": "3.11.5"
  }
 },
 "nbformat": 4,
 "nbformat_minor": 5
}
