{
 "cells": [
  {
   "cell_type": "code",
   "execution_count": 3,
   "id": "f63f0b17",
   "metadata": {},
   "outputs": [],
   "source": [
    "from sklearn.model_selection import cross_val_score\n",
    "import numpy as np\n",
    "from sklearn.linear_model import LinearRegression\n",
    "import pandas as pd\n",
    "from sklearn.compose import ColumnTransformer\n",
    "from sklearn.model_selection import train_test_split\n",
    "from sklearn.preprocessing import LabelEncoder\n",
    "from sklearn.metrics import mean_squared_error\n",
    "from sklearn.preprocessing import OneHotEncoder, StandardScaler"
   ]
  },
  {
   "cell_type": "code",
   "execution_count": 4,
   "id": "c106b34e",
   "metadata": {},
   "outputs": [],
   "source": [
    "df = pd.read_csv(\"../../../../Cleaned Datasets/NSL-KDD/Cleaned_NSLKDD.csv\")"
   ]
  },
  {
   "cell_type": "code",
   "execution_count": 5,
   "id": "5d7ed34c",
   "metadata": {},
   "outputs": [],
   "source": [
    "label_encoder = LabelEncoder()\n",
    "\n",
    "for feature in df:\n",
    "    if df[feature].dtype == 'int64' or df[feature].dtype == 'float64':\n",
    "        continue\n",
    "    else:\n",
    "        df[feature] = label_encoder.fit_transform(df[feature])\n",
    "X = df.drop('label', axis = 1)\n",
    "y = df['label']"
   ]
  },
  {
   "cell_type": "code",
   "execution_count": 6,
   "id": "37fc1fef",
   "metadata": {},
   "outputs": [],
   "source": [
    "selected_feature_list = []"
   ]
  },
  {
   "cell_type": "code",
   "execution_count": 7,
   "id": "919a3502",
   "metadata": {},
   "outputs": [],
   "source": [
    "X_train, X_test, y_train, y_test = train_test_split(X, y, test_size=0.2, random_state=42)"
   ]
  },
  {
   "cell_type": "code",
   "execution_count": 10,
   "id": "73fa67fd",
   "metadata": {},
   "outputs": [],
   "source": [
    "def Forward_Selection_Function(X_train, y_train):\n",
    "    selected_feature_list = []\n",
    "    Feature_List = list(X_train.columns)\n",
    "\n",
    "    while len(selected_feature_list) != 10:\n",
    "        scores_list = []\n",
    "        \n",
    "        for feature in Feature_List:\n",
    "            current_features = Feature_List\n",
    "#             current_features.remove(feature)\n",
    "            current_features = [f for f in Feature_List if f != feature]\n",
    "            model = LinearRegression()\n",
    "            model.fit(X_train[current_features], y_train)\n",
    "            y_pred = model.predict(X_train[current_features])\n",
    "            score = mean_squared_error(y_train, y_pred)\n",
    "            scores_list.append((score, feature))\n",
    "            \n",
    "        scores_list.sort()\n",
    "        best_score, best_feature = scores_list[len(scores_list)-1]\n",
    "        Feature_List.remove(best_feature)\n",
    "        selected_feature_list.append(best_feature)\n",
    "        print(f\"Selected feature: {best_feature}, Score: {best_score}\")\n",
    "    \n",
    "    return selected_feature_list\n",
    "        "
   ]
  },
  {
   "cell_type": "code",
   "execution_count": 11,
   "id": "433caaa9",
   "metadata": {},
   "outputs": [
    {
     "name": "stdout",
     "output_type": "stream",
     "text": [
      "Selected feature: num_failed_logins, Score: 26.107417601102295\n",
      "Selected feature: is_guest_login, Score: 28.683935737818\n",
      "Selected feature: dst_host_srv_diff_host_rate, Score: 29.735255558115007\n",
      "Selected feature: service, Score: 30.541845374602207\n",
      "Selected feature: logged_in, Score: 31.305059739599475\n",
      "Selected feature: dst_host_same_src_port_rate, Score: 32.113761640830774\n",
      "Selected feature: dst_host_diff_srv_rate, Score: 33.081059014966065\n",
      "Selected feature: count, Score: 34.2910415750107\n",
      "Selected feature: srv_count, Score: 35.455931387090125\n",
      "Selected feature: dst_host_srv_count, Score: 36.398883923972214\n"
     ]
    },
    {
     "data": {
      "text/plain": [
       "['num_failed_logins',\n",
       " 'is_guest_login',\n",
       " 'dst_host_srv_diff_host_rate',\n",
       " 'service',\n",
       " 'logged_in',\n",
       " 'dst_host_same_src_port_rate',\n",
       " 'dst_host_diff_srv_rate',\n",
       " 'count',\n",
       " 'srv_count',\n",
       " 'dst_host_srv_count']"
      ]
     },
     "execution_count": 11,
     "metadata": {},
     "output_type": "execute_result"
    }
   ],
   "source": [
    "Forward_Selection_Function(X_train, y_train)"
   ]
  },
  {
   "cell_type": "code",
   "execution_count": null,
   "id": "76b88419",
   "metadata": {},
   "outputs": [],
   "source": []
  }
 ],
 "metadata": {
  "kernelspec": {
   "display_name": "Python 3 (ipykernel)",
   "language": "python",
   "name": "python3"
  },
  "language_info": {
   "codemirror_mode": {
    "name": "ipython",
    "version": 3
   },
   "file_extension": ".py",
   "mimetype": "text/x-python",
   "name": "python",
   "nbconvert_exporter": "python",
   "pygments_lexer": "ipython3",
   "version": "3.11.5"
  }
 },
 "nbformat": 4,
 "nbformat_minor": 5
}
