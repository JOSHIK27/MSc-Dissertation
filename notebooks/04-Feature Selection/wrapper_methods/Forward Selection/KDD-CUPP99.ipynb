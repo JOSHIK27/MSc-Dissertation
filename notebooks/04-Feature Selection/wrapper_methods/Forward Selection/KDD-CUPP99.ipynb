{
 "cells": [
  {
   "cell_type": "code",
   "execution_count": 90,
   "id": "d5c08179",
   "metadata": {},
   "outputs": [],
   "source": [
    "from sklearn.model_selection import cross_val_score\n",
    "import numpy as np\n",
    "from sklearn.linear_model import LinearRegression\n",
    "import pandas as pd\n",
    "from sklearn.compose import ColumnTransformer\n",
    "from sklearn.model_selection import train_test_split\n",
    "from sklearn.preprocessing import LabelEncoder\n",
    "from sklearn.metrics import mean_squared_error\n",
    "from sklearn.preprocessing import OneHotEncoder, StandardScaler"
   ]
  },
  {
   "cell_type": "code",
   "execution_count": 74,
   "id": "113d3bac",
   "metadata": {},
   "outputs": [],
   "source": [
    "df = pd.read_csv(\"../../../../Cleaned Datasets/KDD-CUPP99/Cleaned_KDDCUPP99.csv\")"
   ]
  },
  {
   "cell_type": "code",
   "execution_count": 85,
   "id": "f522c063",
   "metadata": {},
   "outputs": [],
   "source": [
    "label_encoder = LabelEncoder()\n",
    "\n",
    "for feature in df:\n",
    "    if df[feature].dtype == 'int64' or df[feature].dtype == 'float64':\n",
    "        continue\n",
    "    else:\n",
    "        df[feature] = label_encoder.fit_transform(df[feature])\n",
    "X = df.drop('label', axis = 1)\n",
    "y = df['label']"
   ]
  },
  {
   "cell_type": "code",
   "execution_count": 86,
   "id": "b330c3bd",
   "metadata": {},
   "outputs": [],
   "source": [
    "selected_feature_list = []"
   ]
  },
  {
   "cell_type": "code",
   "execution_count": 87,
   "id": "9154bf6f",
   "metadata": {},
   "outputs": [],
   "source": [
    "X_train, X_test, y_train, y_test = train_test_split(X, y, test_size=0.2, random_state=42)"
   ]
  },
  {
   "cell_type": "code",
   "execution_count": 108,
   "id": "7f00c311",
   "metadata": {},
   "outputs": [],
   "source": [
    "def Forward_Selection_Function(X_train, y_train):\n",
    "    selected_feature_list = []\n",
    "    Feature_List = list(df.columns)\n",
    "    \n",
    "    while len(selected_feature_list) < 10:\n",
    "        scores_list = []\n",
    "        \n",
    "        for feature in Feature_List:\n",
    "            current_features = selected_feature_list + [feature]\n",
    "            model = LinearRegression()\n",
    "            model.fit(X_train, y_train)\n",
    "            y_pred = model.predict(X_train)\n",
    "            score = mean_squared_error(y_train, y_pred)\n",
    "            scores_list.append((score, feature))\n",
    "            \n",
    "        scores_list.sort()\n",
    "        best_score, best_feature = scores_list[0]\n",
    "        Feature_List.remove(best_feature)\n",
    "        selected_feature_list.append(best_feature)\n",
    "        print(f\"Selected feature: {best_feature}, Score: {best_score}\")\n",
    "    \n",
    "    return selected_feature_list\n",
    "        "
   ]
  },
  {
   "cell_type": "code",
   "execution_count": 109,
   "id": "34e0b80b",
   "metadata": {},
   "outputs": [
    {
     "name": "stdout",
     "output_type": "stream",
     "text": [
      "Selected feature: count, Score: 0.5562677398615589\n",
      "Selected feature: diff_srv_rate, Score: 0.5562677398615589\n",
      "Selected feature: dst_bytes, Score: 0.5562677398615589\n",
      "Selected feature: dst_host_count, Score: 0.5562677398615589\n",
      "Selected feature: dst_host_diff_srv_rate, Score: 0.5562677398615589\n",
      "Selected feature: dst_host_rerror_rate, Score: 0.5562677398615589\n",
      "Selected feature: dst_host_same_src_port_rate, Score: 0.5562677398615589\n",
      "Selected feature: dst_host_same_srv_rate, Score: 0.5562677398615589\n",
      "Selected feature: dst_host_serror_rate, Score: 0.5562677398615589\n",
      "Selected feature: dst_host_srv_count, Score: 0.5562677398615589\n"
     ]
    },
    {
     "data": {
      "text/plain": [
       "['count',\n",
       " 'diff_srv_rate',\n",
       " 'dst_bytes',\n",
       " 'dst_host_count',\n",
       " 'dst_host_diff_srv_rate',\n",
       " 'dst_host_rerror_rate',\n",
       " 'dst_host_same_src_port_rate',\n",
       " 'dst_host_same_srv_rate',\n",
       " 'dst_host_serror_rate',\n",
       " 'dst_host_srv_count']"
      ]
     },
     "execution_count": 109,
     "metadata": {},
     "output_type": "execute_result"
    }
   ],
   "source": [
    "Forward_Selection_Function(X_train, y_train)"
   ]
  }
 ],
 "metadata": {
  "kernelspec": {
   "display_name": "Python 3 (ipykernel)",
   "language": "python",
   "name": "python3"
  },
  "language_info": {
   "codemirror_mode": {
    "name": "ipython",
    "version": 3
   },
   "file_extension": ".py",
   "mimetype": "text/x-python",
   "name": "python",
   "nbconvert_exporter": "python",
   "pygments_lexer": "ipython3",
   "version": "3.11.5"
  }
 },
 "nbformat": 4,
 "nbformat_minor": 5
}
