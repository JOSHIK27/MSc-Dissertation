{
 "cells": [
  {
   "cell_type": "code",
   "execution_count": 2,
   "id": "7877b1f9",
   "metadata": {},
   "outputs": [],
   "source": [
    "from sklearn.model_selection import cross_val_score\n",
    "import numpy as np\n",
    "from sklearn.linear_model import LinearRegression\n",
    "import pandas as pd\n",
    "from sklearn.compose import ColumnTransformer\n",
    "from sklearn.model_selection import train_test_split\n",
    "from sklearn.preprocessing import LabelEncoder\n",
    "from sklearn.metrics import mean_squared_error\n",
    "from sklearn.preprocessing import OneHotEncoder, StandardScaler"
   ]
  },
  {
   "cell_type": "code",
   "execution_count": 3,
   "id": "0126dde6",
   "metadata": {},
   "outputs": [],
   "source": [
    "df = pd.read_csv(\"../../../../Cleaned Datasets/NSL-KDD/Cleaned_NSLKDD.csv\")"
   ]
  },
  {
   "cell_type": "code",
   "execution_count": 24,
   "id": "06b1cb1d",
   "metadata": {},
   "outputs": [],
   "source": [
    "label_encoder = LabelEncoder()\n",
    "for feature in df:\n",
    "    if df[feature].dtype == 'int64' or df[feature].dtype == 'float64':\n",
    "        continue\n",
    "    else:\n",
    "        df[feature] = label_encoder.fit_transform(df[feature])\n",
    "X = df.drop('label', axis = 1)\n",
    "y = df['label']"
   ]
  },
  {
   "cell_type": "code",
   "execution_count": 17,
   "id": "28ed1597",
   "metadata": {},
   "outputs": [],
   "source": [
    "X_train, X_test, y_train, y_test = train_test_split(X, y, test_size=0.2, random_state=42)"
   ]
  },
  {
   "cell_type": "code",
   "execution_count": 27,
   "id": "e57196d6",
   "metadata": {},
   "outputs": [],
   "source": [
    "def Forward_Selection_Function(X_train, y_train):\n",
    "    selected_feature_list = []\n",
    "    Feature_List = list(X_train.columns)\n",
    "    \n",
    "    while len(selected_feature_list) < 10:\n",
    "        scores_list = []\n",
    "        \n",
    "        for feature in Feature_List:\n",
    "            current_features = selected_feature_list + [feature]\n",
    "            model = LinearRegression()\n",
    "            model.fit(X_train[current_features], y_train)\n",
    "            y_pred = model.predict(X_train[current_features])\n",
    "            score = mean_squared_error(y_train, y_pred)\n",
    "            scores_list.append((score, feature))\n",
    "            \n",
    "        scores_list.sort()\n",
    "        best_score, best_feature = scores_list[0]\n",
    "        Feature_List.remove(best_feature)\n",
    "        selected_feature_list.append(best_feature)\n",
    "        print(f\"Selected feature: {best_feature}, Score: {best_score}\")\n",
    "    \n",
    "    return selected_feature_list"
   ]
  },
  {
   "cell_type": "code",
   "execution_count": 28,
   "id": "37ee852b",
   "metadata": {},
   "outputs": [
    {
     "name": "stdout",
     "output_type": "stream",
     "text": [
      "Selected feature: dst_host_same_src_port_rate, Score: 41.936958885455546\n",
      "Selected feature: is_guest_login, Score: 37.3558752800442\n",
      "Selected feature: num_failed_logins, Score: 34.44007820178964\n",
      "Selected feature: dst_host_diff_srv_rate, Score: 32.64580250137874\n",
      "Selected feature: rerror_rate, Score: 31.130046448022224\n",
      "Selected feature: logged_in, Score: 29.036863808954475\n",
      "Selected feature: serror_rate, Score: 25.625767521844573\n",
      "Selected feature: same_srv_rate, Score: 25.006633701896018\n",
      "Selected feature: protocol_type, Score: 24.375927562707034\n",
      "Selected feature: dst_host_srv_diff_host_rate, Score: 23.803206592521057\n"
     ]
    },
    {
     "data": {
      "text/plain": [
       "['dst_host_same_src_port_rate',\n",
       " 'is_guest_login',\n",
       " 'num_failed_logins',\n",
       " 'dst_host_diff_srv_rate',\n",
       " 'rerror_rate',\n",
       " 'logged_in',\n",
       " 'serror_rate',\n",
       " 'same_srv_rate',\n",
       " 'protocol_type',\n",
       " 'dst_host_srv_diff_host_rate']"
      ]
     },
     "execution_count": 28,
     "metadata": {},
     "output_type": "execute_result"
    }
   ],
   "source": [
    "Forward_Selection_Function(X_train, y_train)"
   ]
  }
 ],
 "metadata": {
  "kernelspec": {
   "display_name": "Python 3 (ipykernel)",
   "language": "python",
   "name": "python3"
  },
  "language_info": {
   "codemirror_mode": {
    "name": "ipython",
    "version": 3
   },
   "file_extension": ".py",
   "mimetype": "text/x-python",
   "name": "python",
   "nbconvert_exporter": "python",
   "pygments_lexer": "ipython3",
   "version": "3.11.5"
  }
 },
 "nbformat": 4,
 "nbformat_minor": 5
}
