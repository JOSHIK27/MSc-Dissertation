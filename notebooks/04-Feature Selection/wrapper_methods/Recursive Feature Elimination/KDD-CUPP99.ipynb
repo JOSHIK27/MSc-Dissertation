{
 "cells": [
  {
   "cell_type": "code",
   "execution_count": 13,
   "id": "248ab7b4",
   "metadata": {},
   "outputs": [],
   "source": [
    "from sklearn.model_selection import cross_val_score\n",
    "from sklearn.linear_model import LinearRegression\n",
    "from sklearn.linear_model import LogisticRegression\n",
    "import pandas as pd\n",
    "from sklearn.compose import ColumnTransformer\n",
    "from sklearn.model_selection import train_test_split\n",
    "from sklearn.preprocessing import LabelEncoder\n",
    "from sklearn.metrics import mean_squared_error\n",
    "from sklearn.feature_selection import RFE"
   ]
  },
  {
   "cell_type": "code",
   "execution_count": 14,
   "id": "cb86977b",
   "metadata": {},
   "outputs": [],
   "source": [
    "df = pd.read_csv(\"../../../../Cleaned Datasets/KDD-CUPP99/Cleaned_KDDCUPP99.csv\")"
   ]
  },
  {
   "cell_type": "code",
   "execution_count": 15,
   "id": "ac1d25d2",
   "metadata": {},
   "outputs": [],
   "source": [
    "label_encoder = LabelEncoder()\n",
    "for feature in df:\n",
    "    if df[feature].dtype == 'int64' or df[feature].dtype == 'float64':\n",
    "        continue\n",
    "    else:\n",
    "        df[feature] = label_encoder.fit_transform(df[feature])\n",
    "X = df.drop('label', axis = 1)\n",
    "y = df['label']"
   ]
  },
  {
   "cell_type": "code",
   "execution_count": 16,
   "id": "b51bfc19",
   "metadata": {},
   "outputs": [],
   "source": [
    "X_train, X_test, y_train, y_test = train_test_split(X, y, test_size=0.2, random_state=42)"
   ]
  },
  {
   "cell_type": "code",
   "execution_count": 17,
   "id": "50bfd5aa",
   "metadata": {},
   "outputs": [],
   "source": [
    "model = LinearRegression()"
   ]
  },
  {
   "cell_type": "code",
   "execution_count": 18,
   "id": "db7c793f",
   "metadata": {},
   "outputs": [],
   "source": [
    "rfe = RFE(model, n_features_to_select=10)"
   ]
  },
  {
   "cell_type": "code",
   "execution_count": 19,
   "id": "0559b1cd",
   "metadata": {},
   "outputs": [],
   "source": [
    "rfe = rfe.fit(X, y)"
   ]
  },
  {
   "cell_type": "code",
   "execution_count": 20,
   "id": "72d85eb4",
   "metadata": {
    "scrolled": true
   },
   "outputs": [
    {
     "name": "stdout",
     "output_type": "stream",
     "text": [
      "wrong_fragment\n",
      "num_failed_logins\n",
      "is_host_login\n",
      "serror_rate\n",
      "srv_serror_rate\n",
      "rerror_rate\n",
      "srv_rerror_rate\n",
      "same_srv_rate\n",
      "diff_srv_rate\n",
      "dst_host_srv_diff_host_rate\n"
     ]
    }
   ],
   "source": [
    "# print(\"Selected features: %s\" % rfe.support_)\n",
    "# print(\"Feature ranking: %s\" % rfe.ranking_)\n",
    "total_features = X.columns\n",
    "ind = 0\n",
    "for feature in list(rfe.support_):\n",
    "    if feature == True:\n",
    "        print(total_features[ind])\n",
    "    ind = ind+1"
   ]
  }
 ],
 "metadata": {
  "kernelspec": {
   "display_name": "Python 3 (ipykernel)",
   "language": "python",
   "name": "python3"
  },
  "language_info": {
   "codemirror_mode": {
    "name": "ipython",
    "version": 3
   },
   "file_extension": ".py",
   "mimetype": "text/x-python",
   "name": "python",
   "nbconvert_exporter": "python",
   "pygments_lexer": "ipython3",
   "version": "3.11.5"
  }
 },
 "nbformat": 4,
 "nbformat_minor": 5
}
