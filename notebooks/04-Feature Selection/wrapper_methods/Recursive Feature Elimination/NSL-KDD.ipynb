{
 "cells": [
  {
   "cell_type": "code",
   "execution_count": 11,
   "id": "248ab7b4",
   "metadata": {},
   "outputs": [],
   "source": [
    "from sklearn.model_selection import cross_val_score\n",
    "from sklearn.linear_model import LinearRegression\n",
    "from sklearn.linear_model import LogisticRegression\n",
    "import pandas as pd\n",
    "from sklearn.compose import ColumnTransformer\n",
    "from sklearn.model_selection import train_test_split\n",
    "from sklearn.preprocessing import LabelEncoder\n",
    "from sklearn.metrics import mean_squared_error\n",
    "from sklearn.feature_selection import RFE"
   ]
  },
  {
   "cell_type": "code",
   "execution_count": 12,
   "id": "cb86977b",
   "metadata": {},
   "outputs": [],
   "source": [
    "df = pd.read_csv(\"../../../../Cleaned Datasets/NSL-KDD/Cleaned_NSLKDD.csv\")"
   ]
  },
  {
   "cell_type": "code",
   "execution_count": 13,
   "id": "ac1d25d2",
   "metadata": {},
   "outputs": [],
   "source": [
    "label_encoder = LabelEncoder()\n",
    "for feature in df:\n",
    "    if df[feature].dtype == 'int64' or df[feature].dtype == 'float64':\n",
    "        continue\n",
    "    else:\n",
    "        df[feature] = label_encoder.fit_transform(df[feature])\n",
    "X = df.drop('label', axis = 1)\n",
    "y = df['label']"
   ]
  },
  {
   "cell_type": "code",
   "execution_count": 14,
   "id": "b51bfc19",
   "metadata": {},
   "outputs": [],
   "source": [
    "X_train, X_test, y_train, y_test = train_test_split(X, y, test_size=0.2, random_state=42)"
   ]
  },
  {
   "cell_type": "code",
   "execution_count": 22,
   "id": "50bfd5aa",
   "metadata": {},
   "outputs": [],
   "source": [
    "model = LinearRegression()"
   ]
  },
  {
   "cell_type": "code",
   "execution_count": 23,
   "id": "db7c793f",
   "metadata": {},
   "outputs": [],
   "source": [
    "rfe = RFE(model, n_features_to_select=10)"
   ]
  },
  {
   "cell_type": "code",
   "execution_count": 24,
   "id": "0559b1cd",
   "metadata": {},
   "outputs": [],
   "source": [
    "rfe = rfe.fit(X, y)"
   ]
  },
  {
   "cell_type": "code",
   "execution_count": 25,
   "id": "72d85eb4",
   "metadata": {},
   "outputs": [
    {
     "name": "stdout",
     "output_type": "stream",
     "text": [
      "protocol_type\n",
      "urgent\n",
      "num_failed_logins\n",
      "logged_in\n",
      "is_host_login\n",
      "is_guest_login\n",
      "serror_rate\n",
      "rerror_rate\n",
      "dst_host_diff_srv_rate\n",
      "dst_host_srv_diff_host_rate\n"
     ]
    }
   ],
   "source": [
    "# print(\"Selected features: %s\" % rfe.support_)\n",
    "# print(\"Feature ranking: %s\" % rfe.ranking_)\n",
    "total_features = X.columns\n",
    "ind = 0\n",
    "for feature in list(rfe.support_):\n",
    "    if feature == True:\n",
    "        print(total_features[ind])\n",
    "    ind = ind+1"
   ]
  },
  {
   "cell_type": "code",
   "execution_count": null,
   "id": "86f9389a",
   "metadata": {},
   "outputs": [],
   "source": []
  },
  {
   "cell_type": "code",
   "execution_count": 11,
   "id": "75f7f861",
   "metadata": {},
   "outputs": [],
   "source": [
    "from sklearn.model_selection import cross_val_score\n",
    "from sklearn.linear_model import LinearRegression\n",
    "from sklearn.linear_model import LogisticRegression\n",
    "import pandas as pd\n",
    "from sklearn.compose import ColumnTransformer\n",
    "from sklearn.model_selection import train_test_split\n",
    "from sklearn.preprocessing import LabelEncoder\n",
    "from sklearn.metrics import mean_squared_error\n",
    "from sklearn.feature_selection import RFE"
   ]
  },
  {
   "cell_type": "code",
   "execution_count": 12,
   "id": "452f73aa",
   "metadata": {},
   "outputs": [],
   "source": [
    "df = pd.read_csv(\"../../../../Cleaned Datasets/NSL-KDD/Cleaned_NSLKDD.csv\")"
   ]
  },
  {
   "cell_type": "code",
   "execution_count": 13,
   "id": "423876e3",
   "metadata": {},
   "outputs": [],
   "source": [
    "label_encoder = LabelEncoder()\n",
    "for feature in df:\n",
    "    if df[feature].dtype == 'int64' or df[feature].dtype == 'float64':\n",
    "        continue\n",
    "    else:\n",
    "        df[feature] = label_encoder.fit_transform(df[feature])\n",
    "X = df.drop('label', axis = 1)\n",
    "y = df['label']"
   ]
  },
  {
   "cell_type": "code",
   "execution_count": 14,
   "id": "ea80997a",
   "metadata": {},
   "outputs": [],
   "source": [
    "X_train, X_test, y_train, y_test = train_test_split(X, y, test_size=0.2, random_state=42)"
   ]
  },
  {
   "cell_type": "code",
   "execution_count": 22,
   "id": "a390939a",
   "metadata": {},
   "outputs": [],
   "source": [
    "model = LinearRegression()"
   ]
  },
  {
   "cell_type": "code",
   "execution_count": 23,
   "id": "138f2aa8",
   "metadata": {},
   "outputs": [],
   "source": [
    "rfe = RFE(model, n_features_to_select=10)"
   ]
  },
  {
   "cell_type": "code",
   "execution_count": 24,
   "id": "03b9c617",
   "metadata": {},
   "outputs": [],
   "source": [
    "rfe = rfe.fit(X, y)"
   ]
  },
  {
   "cell_type": "code",
   "execution_count": 25,
   "id": "a402f859",
   "metadata": {},
   "outputs": [
    {
     "name": "stdout",
     "output_type": "stream",
     "text": [
      "protocol_type\n",
      "urgent\n",
      "num_failed_logins\n",
      "logged_in\n",
      "is_host_login\n",
      "is_guest_login\n",
      "serror_rate\n",
      "rerror_rate\n",
      "dst_host_diff_srv_rate\n",
      "dst_host_srv_diff_host_rate\n"
     ]
    }
   ],
   "source": [
    "# print(\"Selected features: %s\" % rfe.support_)\n",
    "# print(\"Feature ranking: %s\" % rfe.ranking_)\n",
    "total_features = X.columns\n",
    "ind = 0\n",
    "for feature in list(rfe.support_):\n",
    "    if feature == True:\n",
    "        print(total_features[ind])\n",
    "    ind = ind+1"
   ]
  },
  {
   "cell_type": "code",
   "execution_count": null,
   "id": "3ec169d3",
   "metadata": {},
   "outputs": [],
   "source": []
  }
 ],
 "metadata": {
  "kernelspec": {
   "display_name": "Python 3 (ipykernel)",
   "language": "python",
   "name": "python3"
  },
  "language_info": {
   "codemirror_mode": {
    "name": "ipython",
    "version": 3
   },
   "file_extension": ".py",
   "mimetype": "text/x-python",
   "name": "python",
   "nbconvert_exporter": "python",
   "pygments_lexer": "ipython3",
   "version": "3.11.5"
  }
 },
 "nbformat": 4,
 "nbformat_minor": 5
}
