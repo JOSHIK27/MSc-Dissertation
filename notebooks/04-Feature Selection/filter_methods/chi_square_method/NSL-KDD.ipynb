{
 "cells": [
  {
   "cell_type": "code",
   "execution_count": 2,
   "id": "26e8d67a",
   "metadata": {},
   "outputs": [],
   "source": [
    "import pandas as pd\n",
    "import numpy as np\n",
    "from sklearn.feature_selection import chi2\n",
    "from sklearn.feature_selection import SelectKBest\n",
    "import numpy as np\n",
    "from sklearn.preprocessing import LabelEncoder"
   ]
  },
  {
   "cell_type": "code",
   "execution_count": 5,
   "id": "5432af6f",
   "metadata": {},
   "outputs": [],
   "source": [
    "df = pd.read_csv(\"../../../../Cleaned Datasets/NSL-KDD/Cleaned_NSLKDD.csv\")"
   ]
  },
  {
   "cell_type": "code",
   "execution_count": 6,
   "id": "5ec1f4bc",
   "metadata": {},
   "outputs": [
    {
     "data": {
      "text/plain": [
       "['protocol_type', 'service', 'flag']"
      ]
     },
     "execution_count": 6,
     "metadata": {},
     "output_type": "execute_result"
    }
   ],
   "source": [
    "categorical_features = []\n",
    "\n",
    "# this for loop filters out the categorical attributes from total\n",
    "for feature in df.columns:\n",
    "    if df[feature].dtype != 'int64' and df[feature].dtype != 'float64' and feature != 'label':\n",
    "        df[feature] = df[feature].astype('|S')\n",
    "        categorical_features.append(feature)\n",
    "\n",
    "categorical_features"
   ]
  },
  {
   "cell_type": "code",
   "execution_count": 7,
   "id": "88e774e6",
   "metadata": {},
   "outputs": [
    {
     "name": "stderr",
     "output_type": "stream",
     "text": [
      "/var/folders/2n/mvhw8sxs0svcbp6gsf0jtv800000gn/T/ipykernel_53269/1714517586.py:5: SettingWithCopyWarning: \n",
      "A value is trying to be set on a copy of a slice from a DataFrame.\n",
      "Try using .loc[row_indexer,col_indexer] = value instead\n",
      "\n",
      "See the caveats in the documentation: https://pandas.pydata.org/pandas-docs/stable/user_guide/indexing.html#returning-a-view-versus-a-copy\n",
      "  sample_df[col] = le.fit_transform(sample_df[col])\n",
      "/var/folders/2n/mvhw8sxs0svcbp6gsf0jtv800000gn/T/ipykernel_53269/1714517586.py:5: SettingWithCopyWarning: \n",
      "A value is trying to be set on a copy of a slice from a DataFrame.\n",
      "Try using .loc[row_indexer,col_indexer] = value instead\n",
      "\n",
      "See the caveats in the documentation: https://pandas.pydata.org/pandas-docs/stable/user_guide/indexing.html#returning-a-view-versus-a-copy\n",
      "  sample_df[col] = le.fit_transform(sample_df[col])\n",
      "/var/folders/2n/mvhw8sxs0svcbp6gsf0jtv800000gn/T/ipykernel_53269/1714517586.py:5: SettingWithCopyWarning: \n",
      "A value is trying to be set on a copy of a slice from a DataFrame.\n",
      "Try using .loc[row_indexer,col_indexer] = value instead\n",
      "\n",
      "See the caveats in the documentation: https://pandas.pydata.org/pandas-docs/stable/user_guide/indexing.html#returning-a-view-versus-a-copy\n",
      "  sample_df[col] = le.fit_transform(sample_df[col])\n"
     ]
    },
    {
     "data": {
      "text/plain": [
       "Index(['service', 'flag'], dtype='object')"
      ]
     },
     "execution_count": 7,
     "metadata": {},
     "output_type": "execute_result"
    }
   ],
   "source": [
    "sample_df = df[categorical_features]\n",
    "label_encoders = {}\n",
    "for col in categorical_features:\n",
    "    le = LabelEncoder()\n",
    "    sample_df[col] = le.fit_transform(sample_df[col])\n",
    "    label_encoders[col] = le\n",
    "    \n",
    "k_categorical = 2  \n",
    "chi2_selector = SelectKBest(chi2, k=k_categorical)\n",
    "X_categorical_kbest = chi2_selector.fit_transform(sample_df, df['label'])\n",
    "\n",
    "\n",
    "selected_categorical_features = sample_df.columns[chi2_selector.get_support()]\n",
    "selected_categorical_features\n"
   ]
  },
  {
   "cell_type": "code",
   "execution_count": null,
   "id": "2a45fcd5",
   "metadata": {},
   "outputs": [],
   "source": []
  }
 ],
 "metadata": {
  "kernelspec": {
   "display_name": "Python 3 (ipykernel)",
   "language": "python",
   "name": "python3"
  },
  "language_info": {
   "codemirror_mode": {
    "name": "ipython",
    "version": 3
   },
   "file_extension": ".py",
   "mimetype": "text/x-python",
   "name": "python",
   "nbconvert_exporter": "python",
   "pygments_lexer": "ipython3",
   "version": "3.11.5"
  }
 },
 "nbformat": 4,
 "nbformat_minor": 5
}
