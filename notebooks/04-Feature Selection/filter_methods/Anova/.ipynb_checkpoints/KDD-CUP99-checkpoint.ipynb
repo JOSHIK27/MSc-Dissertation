{
 "cells": [
  {
   "cell_type": "code",
   "execution_count": 1,
   "id": "1894ee23",
   "metadata": {},
   "outputs": [],
   "source": [
    "import numpy as np\n",
    "import pandas as pd\n",
    "from sklearn.feature_selection import f_classif, SelectKBest\n",
    "from sklearn.datasets import load_iris"
   ]
  },
  {
   "cell_type": "code",
   "execution_count": 4,
   "id": "938959a4",
   "metadata": {},
   "outputs": [],
   "source": [
    "df = pd.read_csv(\"../../../../Cleaned Datasets/KDD-CUPP99/Cleaned_KDDCUPP99.csv\")"
   ]
  },
  {
   "cell_type": "code",
   "execution_count": 8,
   "id": "c5168d04",
   "metadata": {},
   "outputs": [
    {
     "data": {
      "text/plain": [
       "['duration',\n",
       " 'src_bytes',\n",
       " 'dst_bytes',\n",
       " 'land',\n",
       " 'wrong_fragment',\n",
       " 'urgent',\n",
       " 'hot',\n",
       " 'num_failed_logins',\n",
       " 'logged_in',\n",
       " 'num_compromised',\n",
       " 'root_shell',\n",
       " 'su_attempted',\n",
       " 'num_root',\n",
       " 'num_file_creations',\n",
       " 'num_shells',\n",
       " 'num_access_files',\n",
       " 'num_outbound_cmds',\n",
       " 'is_host_login',\n",
       " 'is_guest_login',\n",
       " 'count',\n",
       " 'srv_count',\n",
       " 'serror_rate',\n",
       " 'srv_serror_rate',\n",
       " 'rerror_rate',\n",
       " 'srv_rerror_rate',\n",
       " 'same_srv_rate',\n",
       " 'diff_srv_rate',\n",
       " 'srv_diff_host_rate',\n",
       " 'dst_host_count',\n",
       " 'dst_host_srv_count',\n",
       " 'dst_host_same_srv_rate',\n",
       " 'dst_host_diff_srv_rate',\n",
       " 'dst_host_same_src_port_rate',\n",
       " 'dst_host_srv_diff_host_rate',\n",
       " 'dst_host_serror_rate',\n",
       " 'dst_host_srv_serror_rate',\n",
       " 'dst_host_rerror_rate',\n",
       " 'dst_host_srv_rerror_rate']"
      ]
     },
     "execution_count": 8,
     "metadata": {},
     "output_type": "execute_result"
    }
   ],
   "source": [
    "numerical_features = []\n",
    "\n",
    "# this for loop filters out the categorical attributes from total\n",
    "for feature in df.columns:\n",
    "    if df[feature].dtype == 'int64' or df[feature].dtype == 'float64':\n",
    "        numerical_features.append(feature)\n",
    "\n",
    "numerical_features"
   ]
  },
  {
   "cell_type": "code",
   "execution_count": 9,
   "id": "52309f3d",
   "metadata": {},
   "outputs": [
    {
     "name": "stderr",
     "output_type": "stream",
     "text": [
      "/Users/joshikroshannarayana/anaconda3/lib/python3.11/site-packages/sklearn/feature_selection/_univariate_selection.py:112: UserWarning: Features [16] are constant.\n",
      "  warnings.warn(\"Features %s are constant.\" % constant_features_idx, UserWarning)\n",
      "/Users/joshikroshannarayana/anaconda3/lib/python3.11/site-packages/sklearn/feature_selection/_univariate_selection.py:113: RuntimeWarning: invalid value encountered in divide\n",
      "  f = msb / msw\n"
     ]
    }
   ],
   "source": [
    "k = 10\n",
    "anova_selector = SelectKBest(score_func=f_classif, k=k)\n",
    "X_new = anova_selector.fit_transform(df[numerical_features], df['label'])\n"
   ]
  },
  {
   "cell_type": "code",
   "execution_count": 11,
   "id": "4ede1146",
   "metadata": {},
   "outputs": [
    {
     "name": "stdout",
     "output_type": "stream",
     "text": [
      "Feature 0: 4667.264022681923\n",
      "Feature 1: 64.73116875009838\n",
      "Feature 2: 37.04068640230501\n",
      "Feature 3: 132623.21890096957\n",
      "Feature 4: 11777223.527566109\n",
      "Feature 5: 235.8825328359187\n",
      "Feature 6: 3897.583867392938\n",
      "Feature 7: 14355.079608515398\n",
      "Feature 8: 58241.71184210811\n",
      "Feature 9: 1.2043083699688097\n",
      "Feature 10: 3167.3651559088717\n",
      "Feature 11: 77.89555497810585\n",
      "Feature 12: 1.6187057527284507\n",
      "Feature 13: 59.65930758878701\n",
      "Feature 14: 877.1849056160936\n",
      "Feature 15: 106.75744211413756\n",
      "Feature 16: nan\n",
      "Feature 17: 0.02932271384778319\n",
      "Feature 18: 1341.245400355484\n",
      "Feature 19: 144893.08895861136\n",
      "Feature 20: 35950.17769003642\n",
      "Feature 21: 183387.65203503967\n",
      "Feature 22: 179886.30215857903\n",
      "Feature 23: 4533.75941049775\n",
      "Feature 24: 4212.529872216885\n",
      "Feature 25: 852890.4235344972\n",
      "Feature 26: 12559.009358695952\n",
      "Feature 27: 4292.266108985335\n",
      "Feature 28: 16681.38298138485\n",
      "Feature 29: 63101.49314875495\n",
      "Feature 30: 94524.32640191402\n",
      "Feature 31: 10008.521877760671\n",
      "Feature 32: 8725.00020723922\n",
      "Feature 33: 25354.711288261497\n",
      "Feature 34: 183584.84619354678\n",
      "Feature 35: 182149.83732714062\n",
      "Feature 36: 3779.2867429242824\n",
      "Feature 37: 4321.006905850196\n",
      "Selected features indices: [ 3  4 19 21 22 25 29 30 34 35]\n"
     ]
    }
   ],
   "source": [
    "feature_scores = anova_selector.scores_\n",
    "\n",
    "for i, score in enumerate(feature_scores):\n",
    "    print(f\"Feature {i}: {score}\")\n",
    "\n",
    "selected_features = anova_selector.get_support(indices=True)\n",
    "print(\"Selected features indices:\", selected_features)"
   ]
  },
  {
   "cell_type": "code",
   "execution_count": null,
   "id": "413659df",
   "metadata": {},
   "outputs": [],
   "source": []
  }
 ],
 "metadata": {
  "kernelspec": {
   "display_name": "Python 3 (ipykernel)",
   "language": "python",
   "name": "python3"
  },
  "language_info": {
   "codemirror_mode": {
    "name": "ipython",
    "version": 3
   },
   "file_extension": ".py",
   "mimetype": "text/x-python",
   "name": "python",
   "nbconvert_exporter": "python",
   "pygments_lexer": "ipython3",
   "version": "3.11.5"
  }
 },
 "nbformat": 4,
 "nbformat_minor": 5
}
